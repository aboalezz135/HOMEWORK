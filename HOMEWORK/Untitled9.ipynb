{
 "cells": [
  {
   "cell_type": "code",
   "execution_count": 2,
   "id": "bb7b5119-82b3-44fc-9eb8-e314de5181c9",
   "metadata": {},
   "outputs": [
    {
     "name": "stdout",
     "output_type": "stream",
     "text": [
      "A -> B -> E -> H\n"
     ]
    }
   ],
   "source": [
    "\n",
    "# A*\n",
    "from queue import PriorityQueue\n",
    "\n",
    "def a_star(graph, start, target, heuristic):\n",
    "    queue = PriorityQueue()\n",
    "    queue.put((0 + heuristic[start], start))\n",
    "    visited = []\n",
    "    parent_map = {start: None}\n",
    "    cost_so_far = {start: 0}\n",
    "\n",
    "    while not queue.empty():\n",
    "        current = queue.get()[1]\n",
    "        \n",
    "        if current == target:\n",
    "            break\n",
    "        \n",
    "        visited.append(current)\n",
    "        \n",
    "        for neighbor, cost in graph[current]:\n",
    "            new_cost = cost_so_far[current] + cost\n",
    "            if neighbor not in cost_so_far or new_cost < cost_so_far[neighbor]:\n",
    "                cost_so_far[neighbor] = new_cost\n",
    "                priority = new_cost + heuristic[neighbor]\n",
    "                queue.put((priority, neighbor))\n",
    "                parent_map[neighbor] = current\n",
    "                \n",
    "    path = []\n",
    "    while current is not None:\n",
    "        path.append(current)\n",
    "        current = parent_map[current]\n",
    "    path.reverse()\n",
    "    \n",
    "    print(\" -> \".join(path))\n",
    "\n",
    "graph = {\n",
    "    'A': [('B', 1), ('C', 3)],\n",
    "    'B': [('D', 4), ('E', 2)],\n",
    "    'C': [('F', 3), ('G', 1)],\n",
    "    'D': [('H', 2)],\n",
    "    'E': [('H', 3)],\n",
    "    'F': [('H', 5)],\n",
    "    'G': [('H', 2)],\n",
    "    'H': []\n",
    "}\n",
    "\n",
    "heuristic = {\n",
    "    'A': 6,\n",
    "    'B': 4,\n",
    "    'C': 3,\n",
    "    'D': 4,\n",
    "    'E': 2,\n",
    "    'F': 1,\n",
    "    'G': 2,\n",
    "    'H': 0\n",
    "}\n",
    "\n",
    "a_star(graph, 'A', 'H', heuristic)\n"
   ]
  },
  {
   "cell_type": "code",
   "execution_count": 3,
   "id": "2919a22e-2de1-4041-908b-47e1d8acae3c",
   "metadata": {},
   "outputs": [
    {
     "name": "stdout",
     "output_type": "stream",
     "text": [
      "A -> B -> D -> H\n"
     ]
    }
   ],
   "source": [
    "\n",
    "# Beam\n",
    "def beam_search(graph, start, target, beam_width):\n",
    "    queue = [(start, [start])]\n",
    "    while queue:\n",
    "        all_paths = []\n",
    "        for node, path in queue:\n",
    "            for neighbor, cost in graph.get(node, []):\n",
    "                new_path = path + [neighbor]\n",
    "                if neighbor == target:\n",
    "                    print(\" -> \".join(new_path))\n",
    "                    return\n",
    "                all_paths.append((neighbor, new_path))\n",
    "        \n",
    "        queue = sorted(all_paths, key=lambda x: len(x[1]))[:beam_width]\n",
    "\n",
    "graph = {\n",
    "    'A': [('B', 1), ('C', 3)],\n",
    "    'B': [('D', 4), ('E', 2)],\n",
    "    'C': [('F', 3), ('G', 1)],\n",
    "    'D': [('H', 2)],\n",
    "    'E': [('H', 3)],\n",
    "    'F': [('H', 5)],\n",
    "    'G': [('H', 2)],\n",
    "    'H': []\n",
    "}\n",
    "\n",
    "beam_search(graph, 'A', 'H', beam_width=2)\n"
   ]
  },
  {
   "cell_type": "code",
   "execution_count": null,
   "id": "8c772fe3-f54f-4e12-be35-cc990e3c3f29",
   "metadata": {},
   "outputs": [],
   "source": []
  },
  {
   "cell_type": "code",
   "execution_count": null,
   "id": "54b05a7d-6fa2-4479-b79f-39d771f5f5e7",
   "metadata": {},
   "outputs": [],
   "source": []
  }
 ],
 "metadata": {
  "kernelspec": {
   "display_name": "Python 3 (ipykernel)",
   "language": "python",
   "name": "python3"
  },
  "language_info": {
   "codemirror_mode": {
    "name": "ipython",
    "version": 3
   },
   "file_extension": ".py",
   "mimetype": "text/x-python",
   "name": "python",
   "nbconvert_exporter": "python",
   "pygments_lexer": "ipython3",
   "version": "3.11.7"
  }
 },
 "nbformat": 4,
 "nbformat_minor": 5
}
